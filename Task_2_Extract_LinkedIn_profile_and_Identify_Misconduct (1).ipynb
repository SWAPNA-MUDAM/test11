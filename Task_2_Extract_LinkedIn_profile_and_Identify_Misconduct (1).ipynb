{
 "cells": [
  {
   "cell_type": "code",
   "execution_count": 1,
   "id": "e296e188",
   "metadata": {},
   "outputs": [],
   "source": [
    "import os\n",
    "import pandas as pd\n",
    "import re"
   ]
  },
  {
   "cell_type": "code",
   "execution_count": 2,
   "id": "8b45659c",
   "metadata": {},
   "outputs": [],
   "source": [
    "data = []\n",
    "\n",
    "for i in range(1,16):\n",
    "    file = open(fr\"C:\\\\Users\\\\hi\\Desktop\\\\Innomatics\\\\Internship 2024 Sample Docs\\\\GMT20240125-121850_RecordingnewChat\\\\recovery_{i}\\\\GMT20240125-121850_RecordingnewChat - Copy ({i}).txt\", \"r+\", encoding = 'unicode escape')\n",
    "    reading = file.read()\n",
    "    data.append(reading)"
   ]
  },
  {
   "cell_type": "code",
   "execution_count": 3,
   "id": "2bf5ab1e",
   "metadata": {},
   "outputs": [],
   "source": [
    "new_data = []\n",
    "for i in data:\n",
    "    ni = i.splitlines()\n",
    "    for j in ni:\n",
    "        nj = j.split('\\t')\n",
    "        new_data.append(nj)"
   ]
  },
  {
   "cell_type": "code",
   "execution_count": 4,
   "id": "4b61d92d",
   "metadata": {},
   "outputs": [],
   "source": [
    "dd = pd.DataFrame(new_data, columns = ('time', 'name', 'message'))"
   ]
  },
  {
   "cell_type": "code",
   "execution_count": 5,
   "id": "4fe7d0d8",
   "metadata": {},
   "outputs": [],
   "source": [
    "dd.dropna(inplace = True)"
   ]
  },
  {
   "cell_type": "code",
   "execution_count": 6,
   "id": "b230bd24",
   "metadata": {},
   "outputs": [],
   "source": [
    "url_pattern = r'\\b(?:https?:\\/\\/)?(?:www\\.)?[a-zA-Z0-9-]+\\.[a-zA-Z]{2,}(?:\\/\\S*)?\\b'"
   ]
  },
  {
   "cell_type": "code",
   "execution_count": 7,
   "id": "1668ce6d",
   "metadata": {},
   "outputs": [],
   "source": [
    "dd['Has_URL'] = dd['message'].str.contains(url_pattern, case=False, regex=True)"
   ]
  },
  {
   "cell_type": "code",
   "execution_count": 8,
   "id": "ad747f4b",
   "metadata": {},
   "outputs": [],
   "source": [
    "dd1 = dd[dd['Has_URL']]"
   ]
  },
  {
   "cell_type": "code",
   "execution_count": 9,
   "id": "23de1b6c",
   "metadata": {},
   "outputs": [
    {
     "data": {
      "text/html": [
       "<div>\n",
       "<style scoped>\n",
       "    .dataframe tbody tr th:only-of-type {\n",
       "        vertical-align: middle;\n",
       "    }\n",
       "\n",
       "    .dataframe tbody tr th {\n",
       "        vertical-align: top;\n",
       "    }\n",
       "\n",
       "    .dataframe thead th {\n",
       "        text-align: right;\n",
       "    }\n",
       "</style>\n",
       "<table border=\"1\" class=\"dataframe\">\n",
       "  <thead>\n",
       "    <tr style=\"text-align: right;\">\n",
       "      <th></th>\n",
       "      <th>time</th>\n",
       "      <th>name</th>\n",
       "      <th>message</th>\n",
       "      <th>Has_URL</th>\n",
       "    </tr>\n",
       "  </thead>\n",
       "  <tbody>\n",
       "    <tr>\n",
       "      <th>587</th>\n",
       "      <td>00:24:21</td>\n",
       "      <td>Pratik Kumar Jha:</td>\n",
       "      <td>discord link shttps://discord.gg/cSXvEw6Hxd</td>\n",
       "      <td>True</td>\n",
       "    </tr>\n",
       "    <tr>\n",
       "      <th>1371</th>\n",
       "      <td>00:42:47</td>\n",
       "      <td>Aardra R:</td>\n",
       "      <td>https://www.linkedin.com/in/aardra-reji-a615ba...</td>\n",
       "      <td>True</td>\n",
       "    </tr>\n",
       "    <tr>\n",
       "      <th>1372</th>\n",
       "      <td>00:42:48</td>\n",
       "      <td>Sathish Vanga:</td>\n",
       "      <td>www.linkedin.com/in/sathish-vanga</td>\n",
       "      <td>True</td>\n",
       "    </tr>\n",
       "    <tr>\n",
       "      <th>1373</th>\n",
       "      <td>00:42:53</td>\n",
       "      <td>Abhishek Ganeshkar:</td>\n",
       "      <td>https://www.linkedin.com/in/abhishek-ganeshkar...</td>\n",
       "      <td>True</td>\n",
       "    </tr>\n",
       "    <tr>\n",
       "      <th>1374</th>\n",
       "      <td>00:42:54</td>\n",
       "      <td>Vishakha Santosh Deshmukh:</td>\n",
       "      <td>https://www.linkedin.com/in/vishakha-deshmukh-...</td>\n",
       "      <td>True</td>\n",
       "    </tr>\n",
       "    <tr>\n",
       "      <th>...</th>\n",
       "      <td>...</td>\n",
       "      <td>...</td>\n",
       "      <td>...</td>\n",
       "      <td>...</td>\n",
       "    </tr>\n",
       "    <tr>\n",
       "      <th>44569</th>\n",
       "      <td>01:31:25</td>\n",
       "      <td>Aminat Owodunni:</td>\n",
       "      <td>https://www.linkedin.com/in/aminat-owodunni</td>\n",
       "      <td>True</td>\n",
       "    </tr>\n",
       "    <tr>\n",
       "      <th>44586</th>\n",
       "      <td>01:33:12</td>\n",
       "      <td>RAJ KUMAR SAGGURTHI:</td>\n",
       "      <td>https://us02web.zoom.us/w/82416269753?tk=XAfCC...</td>\n",
       "      <td>True</td>\n",
       "    </tr>\n",
       "    <tr>\n",
       "      <th>44655</th>\n",
       "      <td>01:34:27</td>\n",
       "      <td>Mohammed Mudassir Ahmed:</td>\n",
       "      <td>https://www.linkedin.com/in/mudassir-ahmed2?ut...</td>\n",
       "      <td>True</td>\n",
       "    </tr>\n",
       "    <tr>\n",
       "      <th>44713</th>\n",
       "      <td>01:36:27</td>\n",
       "      <td>KARRI DHARMA TEJA:</td>\n",
       "      <td>https://www.linkedin.com/feed/hashtag/datascie...</td>\n",
       "      <td>True</td>\n",
       "    </tr>\n",
       "    <tr>\n",
       "      <th>44823</th>\n",
       "      <td>01:40:53</td>\n",
       "      <td>Kavin Puri:</td>\n",
       "      <td>https://www.linkedin.com/in/kavinpuri/     End...</td>\n",
       "      <td>True</td>\n",
       "    </tr>\n",
       "  </tbody>\n",
       "</table>\n",
       "<p>6646 rows × 4 columns</p>\n",
       "</div>"
      ],
      "text/plain": [
       "           time                        name  \\\n",
       "587    00:24:21           Pratik Kumar Jha:   \n",
       "1371   00:42:47                   Aardra R:   \n",
       "1372   00:42:48              Sathish Vanga:   \n",
       "1373   00:42:53         Abhishek Ganeshkar:   \n",
       "1374   00:42:54  Vishakha Santosh Deshmukh:   \n",
       "...         ...                         ...   \n",
       "44569  01:31:25            Aminat Owodunni:   \n",
       "44586  01:33:12        RAJ KUMAR SAGGURTHI:   \n",
       "44655  01:34:27    Mohammed Mudassir Ahmed:   \n",
       "44713  01:36:27          KARRI DHARMA TEJA:   \n",
       "44823  01:40:53                 Kavin Puri:   \n",
       "\n",
       "                                                 message  Has_URL  \n",
       "587          discord link shttps://discord.gg/cSXvEw6Hxd     True  \n",
       "1371   https://www.linkedin.com/in/aardra-reji-a615ba...     True  \n",
       "1372                   www.linkedin.com/in/sathish-vanga     True  \n",
       "1373   https://www.linkedin.com/in/abhishek-ganeshkar...     True  \n",
       "1374   https://www.linkedin.com/in/vishakha-deshmukh-...     True  \n",
       "...                                                  ...      ...  \n",
       "44569        https://www.linkedin.com/in/aminat-owodunni     True  \n",
       "44586  https://us02web.zoom.us/w/82416269753?tk=XAfCC...     True  \n",
       "44655  https://www.linkedin.com/in/mudassir-ahmed2?ut...     True  \n",
       "44713  https://www.linkedin.com/feed/hashtag/datascie...     True  \n",
       "44823  https://www.linkedin.com/in/kavinpuri/     End...     True  \n",
       "\n",
       "[6646 rows x 4 columns]"
      ]
     },
     "execution_count": 9,
     "metadata": {},
     "output_type": "execute_result"
    }
   ],
   "source": [
    "dd1"
   ]
  },
  {
   "cell_type": "markdown",
   "id": "4034d085",
   "metadata": {},
   "source": [
    "#### 1) How many LinkedIn URLs were there over all the chat files?"
   ]
  },
  {
   "cell_type": "code",
   "execution_count": 11,
   "id": "cb753db4",
   "metadata": {},
   "outputs": [],
   "source": [
    "LinkedIn = []\n",
    "for i in dd1['message']:\n",
    "    if 'linkedin' in i:\n",
    "        LinkedIn.append(i)\n",
    "    else:\n",
    "        pass"
   ]
  },
  {
   "cell_type": "code",
   "execution_count": 12,
   "id": "adc49cbb",
   "metadata": {},
   "outputs": [
    {
     "data": {
      "text/plain": [
       "6591"
      ]
     },
     "execution_count": 12,
     "metadata": {},
     "output_type": "execute_result"
    }
   ],
   "source": [
    "len(LinkedIn)"
   ]
  },
  {
   "cell_type": "markdown",
   "id": "4a418b4b",
   "metadata": {},
   "source": [
    "#### 2) Out of all the LinkedIn URLs shared over chat, how many are valid profile URLs?"
   ]
  },
  {
   "cell_type": "code",
   "execution_count": 14,
   "id": "ea67e055",
   "metadata": {},
   "outputs": [],
   "source": [
    "valid_links = []\n",
    "for i in LinkedIn:\n",
    "    vl = re.findall(r'\\b(?:https?:\\/\\/)?(?:www\\.)?linkedin\\.com\\/in\\/[a-zA-Z0-9-]+\\/?\\b', i)\n",
    "    if vl:\n",
    "        valid_links.append(vl)\n",
    "    else:\n",
    "        pass"
   ]
  },
  {
   "cell_type": "code",
   "execution_count": 15,
   "id": "b4d64a41",
   "metadata": {},
   "outputs": [
    {
     "data": {
      "text/plain": [
       "6404"
      ]
     },
     "execution_count": 15,
     "metadata": {},
     "output_type": "execute_result"
    }
   ],
   "source": [
    "len(valid_links)"
   ]
  },
  {
   "cell_type": "markdown",
   "id": "5270f13a",
   "metadata": {},
   "source": [
    "#### 3) How many valid LinkedIn Profile URLs are left after duplicate removal?"
   ]
  },
  {
   "cell_type": "code",
   "execution_count": 21,
   "id": "f96a405c",
   "metadata": {},
   "outputs": [],
   "source": [
    "flattened_list = sum(valid_links, [])"
   ]
  },
  {
   "cell_type": "code",
   "execution_count": 22,
   "id": "a9967178",
   "metadata": {},
   "outputs": [],
   "source": [
    "unique_links = list(set(flattened_list))"
   ]
  },
  {
   "cell_type": "code",
   "execution_count": 23,
   "id": "aec43e5a",
   "metadata": {},
   "outputs": [
    {
     "data": {
      "text/plain": [
       "128"
      ]
     },
     "execution_count": 23,
     "metadata": {},
     "output_type": "execute_result"
    }
   ],
   "source": [
    "len(unique_links)"
   ]
  },
  {
   "cell_type": "markdown",
   "id": "10528d60",
   "metadata": {},
   "source": [
    "#### 4) How many unique occurrences of the misconduct were detected?\n"
   ]
  },
  {
   "cell_type": "code",
   "execution_count": 71,
   "id": "3122ea98",
   "metadata": {},
   "outputs": [],
   "source": [
    "misconduct=[]\n",
    "for i in dd1['message']:\n",
    "    if 'zoom' in i:\n",
    "        misconduct.append(i)"
   ]
  },
  {
   "cell_type": "code",
   "execution_count": 72,
   "id": "69b07d68",
   "metadata": {},
   "outputs": [
    {
     "data": {
      "text/plain": [
       "12"
      ]
     },
     "execution_count": 72,
     "metadata": {},
     "output_type": "execute_result"
    }
   ],
   "source": [
    "len(misconduct)"
   ]
  },
  {
   "cell_type": "code",
   "execution_count": 73,
   "id": "e528041c",
   "metadata": {},
   "outputs": [],
   "source": [
    "un_mis = set(misconduct)"
   ]
  },
  {
   "cell_type": "code",
   "execution_count": 74,
   "id": "ac515f30",
   "metadata": {},
   "outputs": [
    {
     "data": {
      "text/plain": [
       "{'https://us02web.zoom.us/w/82416269753?tk=XAfCCgVa2dUXqlUTrzuYY2Ehl4uhwPQMSYBvfjLoJGk.DQYAAAATMGR5uRZwY0tzeHhpa1NDMlRndEtLaElqTnB3AAAAAAAAAAAAAAAAAAAAAAAAAAAAAAAAAAAAAA&pwd=d09OQWRabGFrcTBDbE9mam02ZW4rQT09'}"
      ]
     },
     "execution_count": 74,
     "metadata": {},
     "output_type": "execute_result"
    }
   ],
   "source": [
    "un_mis"
   ]
  },
  {
   "cell_type": "code",
   "execution_count": 76,
   "id": "2dec31a4",
   "metadata": {},
   "outputs": [
    {
     "data": {
      "text/plain": [
       "1"
      ]
     },
     "execution_count": 76,
     "metadata": {},
     "output_type": "execute_result"
    }
   ],
   "source": [
    "len(un_mis)"
   ]
  },
  {
   "cell_type": "code",
   "execution_count": null,
   "id": "8fd46e91",
   "metadata": {},
   "outputs": [],
   "source": []
  }
 ],
 "metadata": {
  "kernelspec": {
   "display_name": "Python 3 (ipykernel)",
   "language": "python",
   "name": "python3"
  },
  "language_info": {
   "codemirror_mode": {
    "name": "ipython",
    "version": 3
   },
   "file_extension": ".py",
   "mimetype": "text/x-python",
   "name": "python",
   "nbconvert_exporter": "python",
   "pygments_lexer": "ipython3",
   "version": "3.11.4"
  }
 },
 "nbformat": 4,
 "nbformat_minor": 5
}
